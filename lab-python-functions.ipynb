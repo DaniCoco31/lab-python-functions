{
 "cells": [
  {
   "cell_type": "markdown",
   "id": "25d7736c-ba17-4aff-b6bb-66eba20fbf4e",
   "metadata": {},
   "source": [
    "# Lab | Functions"
   ]
  },
  {
   "cell_type": "markdown",
   "id": "0c581062-8967-4d93-b06e-62833222f930",
   "metadata": {
    "tags": []
   },
   "source": [
    "## Exercise: Managing Customer Orders with Functions\n",
    "\n",
    "In the previous exercise, you improved the code for managing customer orders by using loops and flow control. Now, let's take it a step further and refactor the code by introducing functions.\n",
    "\n",
    "Follow the steps below to complete the exercise:\n",
    "\n",
    "1. Define a function named `initialize_inventory` that takes `products` as a parameter. Inside the function, implement the code for initializing the inventory dictionary using a loop and user input.\n",
    "\n",
    "2. Define a function named `get_customer_orders` that takes no parameters. Inside the function, implement the code for prompting the user to enter the product names using a loop. The function should return the `customer_orders` set.\n",
    "\n",
    "3. Define a function named `update_inventory` that takes `customer_orders` and `inventory` as parameters. Inside the function, implement the code for updating the inventory dictionary based on the customer orders.\n",
    "\n",
    "4. Define a function named `calculate_order_statistics` that takes `customer_orders` and `products` as parameters. Inside the function, implement the code for calculating the order statistics (total products ordered, and percentage of unique products ordered). The function should return these values.\n",
    "\n",
    "5. Define a function named `print_order_statistics` that takes `order_statistics` as a parameter. Inside the function, implement the code for printing the order statistics.\n",
    "\n",
    "6. Define a function named `print_updated_inventory` that takes `inventory` as a parameter. Inside the function, implement the code for printing the updated inventory.\n",
    "\n",
    "7. Call the functions in the appropriate sequence to execute the program and manage customer orders.\n",
    "\n",
    "Hints for functions:\n",
    "\n",
    "- Consider the input parameters required for each function and their return values.\n",
    "- Utilize function parameters and return values to transfer data between functions.\n",
    "- Test your functions individually to ensure they work correctly.\n",
    "\n",
    "\n"
   ]
  },
  {
   "cell_type": "code",
   "execution_count": null,
   "id": "51b81060",
   "metadata": {},
   "outputs": [],
   "source": [
    "#FUNCTIONS\n",
    "def yes_or_no(question):\n",
    "    answer = input(question).lower().strip()\n",
    "    while answer != \"yes\" and answer != \"no\":\n",
    "        answer = input(\"Please, answer yes or no\")\n",
    "    return answer\n",
    "    \n",
    "#products\n",
    "products = [\"t-shirt\", \"mug\", \"hat\", \"book\", \"keychain\"]\n",
    "#Inventario\n",
    "inventory = {}\n",
    "\n",
    "for product in products:\n",
    "    quantity = input(\"Quantity of \" + product+\":\")\n",
    "    inventory[product] = int(quantity)\n",
    "\n",
    "print(inventory)\n",
    "{'t-shirt': 122, 'mug': 32, 'hat': 15, 'book': 14, 'keychain': 587}\n",
    "#ASSIGNMENT\n",
    "#Look at your code from the lab data structures, and improve repeated code with loops.\n",
    "#done\n",
    "\n",
    "order_product = \"\"\n",
    "customer_orders = set()\n",
    "counter = 0\n",
    "order = yes_or_no(\"Do you want to place an order? (yes/no)\")\n",
    "while order == \"yes\":\n",
    "    #a. Prompt the user to enter the name of a product that a customer wants to order.\n",
    "    order_product = input(\"Which product would you like to order?\").lower().strip()\n",
    "    if order_product not in products:\n",
    "        print(\"Product not available, try another\")\n",
    "    elif order_product in customer_orders:\n",
    "        print(\"Product already in order, try another\")\n",
    "    else:\n",
    "        #b. Add the product name to the \"customer_orders\" set.\n",
    "        customer_orders.add(str(order_product))\n",
    "        counter += 1\n",
    "        #d. Continue the loop until the user does not want to add another product.\n",
    "        if counter > 5:\n",
    "            break\n",
    "        #c. Ask the user if they want to add another product (yes/no).\n",
    "        order = yes_or_no(\"Do you want  want to add another product ? (yes/no)\")\n",
    "print(\"Order completed\")\n",
    "print(\"Ordered products: \" + str(customer_orders))\n",
    "\n",
    "#Instead of updating the inventory by subtracting 1 from the quantity of each product, only do it for  the products that were ordered (those in \"customer_orders\").\n",
    "print(\"Inventory: \" + str(inventory))\n",
    "for product in customer_orders:\n",
    "    inventory[product]-=1\n",
    "print(\"Updated Inventory: \" + str(inventory))"
   ]
  },
  {
   "cell_type": "code",
   "execution_count": 18,
   "id": "b7a4a5a7",
   "metadata": {},
   "outputs": [],
   "source": [
    "#1.Define a function named `initialize_inventory` that takes `products` as a parameter. Inside the function, \n",
    "# implement the code for initializing the inventory dictionary using a loop and user input.\n",
    "def initialize_inventory(products):\n",
    "    inventory = {}\n",
    "    for product in products:\n",
    "        quantity = input(\"Quantity of the product: \" + str(products))\n",
    "        inventory[product] = int(quantity)\n",
    "    return inventory\n",
    "\n",
    "\n",
    "#2. Define a function named `get_customer_orders` that takes no parameters. Inside the function, \n",
    "# implement the code for prompting the user to enter the product names using a loop. \n",
    "# The function should return the `customer_orders` set.\n",
    "\n",
    "def yes_or_no(question):\n",
    "    answer = input(question).lower().strip()\n",
    "    while answer != \"yes\" and answer != \"no\":\n",
    "        answer = input(\"Please, answer yes or no\")\n",
    "    return answer\n",
    "\n",
    "def get_customer_orders():\n",
    "    customer_order = set()\n",
    "    order_product = \"\"\n",
    "    while order_product != \"no\":\n",
    "        order_product = input(\"Which product would you like to order?\").lower().strip()\n",
    "        if order_product not in products:\n",
    "            print(\"Product not available, try another\")\n",
    "        elif order_product in customer_order:\n",
    "            print(\"Product already order, try another\")\n",
    "        else:\n",
    "            customer_order.add(str(order_product))\n",
    "            order_product = yes_or_no(\"Do you want  want to add another product ? (yes/no)\")\n",
    "\n",
    "        \n",
    "    return customer_order\n",
    "\n",
    "#3. Define a function named `update_inventory` that takes `customer_orders` and `inventory` asparameters. \n",
    "# Inside the function, implement the code for updating the inventory dictionary based on the customer orders.\n",
    "def update_inventory(customer_orders, inventory):\n",
    "    for product in customer_orders:\n",
    "        inventory[product]-=1\n",
    "    return inventory\n",
    "\n",
    "\n",
    "\n",
    "#4. Define a function named `calculate_order_statistics` that takes `customer_orders` and `products` as parameters. \n",
    "# Inside the function, implement the code for calculating the order statistics (total products ordered, and \n",
    "# percentage of unique products ordered). The function should return these values.\n",
    "def calculate_order_statistics(customer_orders, products):\n",
    "    total_products_ordered = int(len(customer_orders))\n",
    "    total_products_amount = 0\n",
    "    for product, amount in products.items():\n",
    "        total_products_amount += int(amount)\n",
    "    percentage_ordered = (total_products_ordered/total_products_amount)*100\n",
    "    return (total_products_amount, percentage_ordered)\n",
    " \n",
    "\n",
    "#5. Define a function named `print_order_statistics` that takes `order_statistics` as a parameter. \n",
    "# Inside the function, implement the code for printing the order statistics.\n",
    "\n",
    "def print_order_statistics(order_statistics):\n",
    "    print(\"Order Statistics:\")\n",
    "    print(\"Total products ordered: \" + str(order_statistics[0]))\n",
    "    print(\"Percentage of Products Ordered:: \" + str(order_statistics[1]) + \"%\")    \n",
    "\n",
    "#6. Define a function named `print_updated_inventory` that takes `inventory` as a parameter. \n",
    "# Inside the function, implement the code for printing the updated inventory.\n",
    "def print_updated_inventory(inventory):\n",
    "    print(inventory)\n",
    "\n",
    "\n",
    "#7. Call the functions in the appropriate sequence to execute the program and manage customer orders.\n",
    "\n",
    "#Hints for functions:\n",
    "#- Consider the input parameters required for each function and their return values.\n",
    "#- Utilize function parameters and return values to transfer data between functions.\n",
    "#- Test your functions individually to ensure they work correctly.\n"
   ]
  },
  {
   "cell_type": "code",
   "execution_count": 60,
   "id": "214b7dd1",
   "metadata": {},
   "outputs": [
    {
     "name": "stdout",
     "output_type": "stream",
     "text": [
      "{'t-shirt': 12, 'mug': 12, 'hat': 32, 'book': 531, 'keychain': 21}\n"
     ]
    }
   ],
   "source": [
    "#1-test\n",
    "products = [\"t-shirt\", \"mug\", \"hat\", \"book\", \"keychain\"]\n",
    "def initialize_inventory_P(products):\n",
    "    inventory = {}\n",
    "    for product in products:\n",
    "        quantity = input(\"Quantity of the product: \" + str(products))\n",
    "        inventory[product] = int(quantity)\n",
    "    return inventory\n",
    "inventory = initialize_inventory_P(products)\n",
    "print(inventory)\n"
   ]
  },
  {
   "cell_type": "code",
   "execution_count": 61,
   "id": "9a8a8f38",
   "metadata": {},
   "outputs": [],
   "source": [
    "#2-test\n",
    "def yes_or_nop(question):\n",
    "    answer = input(question).lower().strip()\n",
    "    while answer != \"yes\" and answer != \"no\":\n",
    "        answer = input(\"Please, answer yes or no\")\n",
    "    return answer\n",
    "\n",
    "def get_customer_ordersp():\n",
    "    customer_order = set()\n",
    "    order_product = \"\"\n",
    "    while order_product != \"no\":\n",
    "        order_product = input(\"Which product would you like to order?\").lower().strip()\n",
    "        if order_product not in products:\n",
    "            print(\"Product not available, try another\")\n",
    "        elif order_product in customer_order:\n",
    "            print(\"Product already order, try another\")\n",
    "        else:\n",
    "            customer_order.add(str(order_product))\n",
    "            order_product = yes_or_no(\"Do you want  want to add another product ? (yes/no)\")\n",
    "\n",
    "        \n",
    "    return customer_order\n"
   ]
  },
  {
   "cell_type": "code",
   "execution_count": 69,
   "id": "7bed107d",
   "metadata": {},
   "outputs": [
    {
     "name": "stdout",
     "output_type": "stream",
     "text": [
      "Product not available, try another\n",
      "Product already order, try another\n",
      "{'book', 'hat'}\n"
     ]
    }
   ],
   "source": [
    "products = [\"t-shirt\", \"mug\", \"hat\", \"book\", \"keychain\"]\n",
    "customer_orders = get_customer_ordersp()\n",
    "print(customer_orders)\n",
    "#print(type(len(customer_orders)))"
   ]
  },
  {
   "cell_type": "code",
   "execution_count": 72,
   "id": "edf2641f",
   "metadata": {},
   "outputs": [
    {
     "name": "stdout",
     "output_type": "stream",
     "text": [
      "{}\n",
      "()\n"
     ]
    }
   ],
   "source": [
    "\n",
    "#3-test\n",
    "def update_inventoryp(customer_orders, inventory):\n",
    "    for product in customer_orders:\n",
    "        inventory[product]-=1\n",
    "    return inventory\n",
    "inventory = {}\n",
    "customer_orders = ()\n",
    "\n",
    "\n",
    "inventory = update_inventoryp(customer_orders, inventory)\n",
    "\n",
    "print(inventory)\n",
    "print(customer_orders)"
   ]
  },
  {
   "cell_type": "code",
   "execution_count": null,
   "id": "79d9b7fa",
   "metadata": {},
   "outputs": [],
   "source": []
  }
 ],
 "metadata": {
  "interpreter": {
   "hash": "584093557690fa7b817b68151f31b4e6f6269ea11aeed8f643261726e3a08327"
  },
  "kernelspec": {
   "display_name": "Python 3.11.7 ('base')",
   "language": "python",
   "name": "python3"
  },
  "language_info": {
   "codemirror_mode": {
    "name": "ipython",
    "version": 3
   },
   "file_extension": ".py",
   "mimetype": "text/x-python",
   "name": "python",
   "nbconvert_exporter": "python",
   "pygments_lexer": "ipython3",
   "version": "3.11.7"
  }
 },
 "nbformat": 4,
 "nbformat_minor": 5
}
