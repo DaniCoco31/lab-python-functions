{
 "cells": [
  {
   "cell_type": "markdown",
   "id": "25d7736c-ba17-4aff-b6bb-66eba20fbf4e",
   "metadata": {},
   "source": [
    "# Lab | Functions"
   ]
  },
  {
   "cell_type": "markdown",
   "id": "0c581062-8967-4d93-b06e-62833222f930",
   "metadata": {
    "tags": []
   },
   "source": [
    "## Exercise: Managing Customer Orders with Functions\n",
    "\n",
    "In the previous exercise, you improved the code for managing customer orders by using loops and flow control. Now, let's take it a step further and refactor the code by introducing functions.\n",
    "\n",
    "Follow the steps below to complete the exercise:\n",
    "\n",
    "1. Define a function named `initialize_inventory` that takes `products` as a parameter. Inside the function, implement the code for initializing the inventory dictionary using a loop and user input.\n",
    "\n",
    "2. Define a function named `get_customer_orders` that takes no parameters. Inside the function, implement the code for prompting the user to enter the product names using a loop. The function should return the `customer_orders` set.\n",
    "\n",
    "3. Define a function named `update_inventory` that takes `customer_orders` and `inventory` as parameters. Inside the function, implement the code for updating the inventory dictionary based on the customer orders.\n",
    "\n",
    "4. Define a function named `calculate_order_statistics` that takes `customer_orders` and `products` as parameters. Inside the function, implement the code for calculating the order statistics (total products ordered, and percentage of unique products ordered). The function should return these values.\n",
    "\n",
    "5. Define a function named `print_order_statistics` that takes `order_statistics` as a parameter. Inside the function, implement the code for printing the order statistics.\n",
    "\n",
    "6. Define a function named `print_updated_inventory` that takes `inventory` as a parameter. Inside the function, implement the code for printing the updated inventory.\n",
    "\n",
    "7. Call the functions in the appropriate sequence to execute the program and manage customer orders.\n",
    "\n",
    "Hints for functions:\n",
    "\n",
    "- Consider the input parameters required for each function and their return values.\n",
    "- Utilize function parameters and return values to transfer data between functions.\n",
    "- Test your functions individually to ensure they work correctly.\n",
    "\n",
    "\n"
   ]
  },
  {
   "cell_type": "code",
   "execution_count": null,
   "id": "51b81060",
   "metadata": {},
   "outputs": [],
   "source": [
    "#FUNCTIONS\n",
    "def yes_or_no(question):\n",
    "    answer = input(question).lower().strip()\n",
    "    while answer != \"yes\" and answer != \"no\":\n",
    "        answer = input(\"Please, answer yes or no\")\n",
    "    return answer\n",
    "    \n",
    "#products\n",
    "products = [\"t-shirt\", \"mug\", \"hat\", \"book\", \"keychain\"]\n",
    "#Inventario\n",
    "inventory = {}\n",
    "\n",
    "for product in products:\n",
    "    quantity = input(\"Quantity of \" + product+\":\")\n",
    "    inventory[product] = int(quantity)\n",
    "\n",
    "print(inventory)\n",
    "{'t-shirt': 122, 'mug': 32, 'hat': 15, 'book': 14, 'keychain': 587}\n",
    "#ASSIGNMENT\n",
    "#Look at your code from the lab data structures, and improve repeated code with loops.\n",
    "#done\n",
    "\n",
    "order_product = \"\"\n",
    "customer_orders = set()\n",
    "counter = 0\n",
    "order = yes_or_no(\"Do you want to place an order? (yes/no)\")\n",
    "while order == \"yes\":\n",
    "    #a. Prompt the user to enter the name of a product that a customer wants to order.\n",
    "    order_product = input(\"Which product would you like to order?\").lower().strip()\n",
    "    if order_product not in products:\n",
    "        print(\"Product not available, try another\")\n",
    "    elif order_product in customer_orders:\n",
    "        print(\"Product already in order, try another\")\n",
    "    else:\n",
    "        #b. Add the product name to the \"customer_orders\" set.\n",
    "        customer_orders.add(str(order_product))\n",
    "        counter += 1\n",
    "        #d. Continue the loop until the user does not want to add another product.\n",
    "        if counter > 5:\n",
    "            break\n",
    "        #c. Ask the user if they want to add another product (yes/no).\n",
    "        order = yes_or_no(\"Do you want  want to add another product ? (yes/no)\")\n",
    "print(\"Order completed\")\n",
    "print(\"Ordered products: \" + str(customer_orders))\n",
    "\n",
    "#Instead of updating the inventory by subtracting 1 from the quantity of each product, only do it for  the products that were ordered (those in \"customer_orders\").\n",
    "print(\"Inventory: \" + str(inventory))\n",
    "for product in customer_orders:\n",
    "    inventory[product]-=1\n",
    "print(\"Updated Inventory: \" + str(inventory))"
   ]
  },
  {
   "cell_type": "code",
   "execution_count": 75,
   "id": "214b7dd1",
   "metadata": {},
   "outputs": [
    {
     "name": "stdout",
     "output_type": "stream",
     "text": [
      "{'t-shirt': 20, 'mug': 20, 'hat': 20, 'book': 20, 'keychain': 20}\n"
     ]
    }
   ],
   "source": [
    "#1.Define a function named `initialize_inventory` that takes `products` as a parameter. Inside the function, \n",
    "# implement the code for initializing the inventory dictionary using a loop and user input.\n",
    "\n",
    "products = [\"t-shirt\", \"mug\", \"hat\", \"book\", \"keychain\"]\n",
    "def initialize_inventory(products):\n",
    "    inventory = {}\n",
    "    for product in products:\n",
    "        quantity = input(\"Quantity of the product: \" + str(product))\n",
    "        inventory[product] = int(quantity)\n",
    "    return inventory\n",
    "inventory = initialize_inventory(products)\n",
    "print(inventory)\n",
    "\n"
   ]
  },
  {
   "cell_type": "code",
   "execution_count": 77,
   "id": "9a8a8f38",
   "metadata": {},
   "outputs": [],
   "source": [
    "#2. Define a function named `get_customer_orders` that takes no parameters. Inside the function, \n",
    "# implement the code for prompting the user to enter the product names using a loop. \n",
    "# The function should return the `customer_orders` set.\n",
    "def yes_or_no(question):\n",
    "    answer = input(question).lower().strip()\n",
    "    while answer != \"yes\" and answer != \"no\":\n",
    "        answer = input(\"Please, answer yes or no\")\n",
    "    return answer\n",
    "\n",
    "def get_customer_orders():\n",
    "    customer_order = set()\n",
    "    order_product = \"\"\n",
    "    while order_product != \"no\":\n",
    "        order_product = input(\"Which product would you like to order?\").lower().strip()\n",
    "        if order_product not in products:\n",
    "            print(\"Product not available, try another\")\n",
    "        elif order_product in customer_order:\n",
    "            print(\"Product already order, try another\")\n",
    "        else:\n",
    "            customer_order.add(order_product)\n",
    "            order_product = yes_or_no(\"Do you want  want to add another product ? (yes/no)\")\n",
    "    return customer_order\n"
   ]
  },
  {
   "cell_type": "code",
   "execution_count": 114,
   "id": "edf2641f",
   "metadata": {},
   "outputs": [],
   "source": [
    "#3. Define a function named `update_inventory` that takes `customer_orders` and `inventory` asparameters. \n",
    "# Inside the function, implement the code for updating the inventory dictionary based on the customer orders.\n",
    "def update_inventory(customer_orders, inventory):\n",
    "    for product in customer_orders:\n",
    "        inventory[product]-=1\n",
    "    return inventory"
   ]
  },
  {
   "cell_type": "code",
   "execution_count": 98,
   "id": "79d9b7fa",
   "metadata": {},
   "outputs": [],
   "source": [
    "#4. Define a function named `calculate_order_statistics` that takes `customer_orders` and `products` as parameters. \n",
    "# Inside the function, implement the code for calculating the order statistics (total products ordered, and \n",
    "# percentage of unique products ordered). The function should return these values.\n",
    "def calculate_order_statistics(customer_orders, inventory):\n",
    "    #los productos ordenados solo puedes tener uno de cada\n",
    "    total_products_ordered = int(len(customer_orders))\n",
    "    #declaro en cero el total de todos los productos\n",
    "    total_products_amount = 0\n",
    "    #leo products como clave : valor\n",
    "    for product, amount in inventory.items():\n",
    "        #sumo solo los valores sin importar el producto\n",
    "        total_products_amount += int(amount)\n",
    "    #porcentaje una regla de 3\n",
    "    percentage_ordered = (total_products_ordered/total_products_amount)*100\n",
    "    #total de productos y el porcentaje\n",
    "    return (total_products_amount, percentage_ordered, total_products_ordered)"
   ]
  },
  {
   "cell_type": "code",
   "execution_count": 117,
   "id": "39959589",
   "metadata": {},
   "outputs": [],
   "source": [
    "#5. Define a function named `print_order_statistics` that takes `order_statistics` as a parameter. \n",
    "# Inside the function, implement the code for printing the order statistics.\n",
    "def print_order_statistics(order_statistics):\n",
    "    print(\"Order Statistics:\")\n",
    "    print(\"Total products: \" + str(order_statistics[0]))\n",
    "    print(\"Total products ordered: \" + str(order_statistics[2]))\n",
    "    print(\"Percentage of Products Ordered:: \" + str(round(order_statistics[1],2)) + \"%\")  "
   ]
  },
  {
   "cell_type": "code",
   "execution_count": 102,
   "id": "ecad31a1",
   "metadata": {},
   "outputs": [],
   "source": [
    "#6. Define a function named `print_updated_inventory` that takes `inventory` as a parameter. \n",
    "# Inside the function, implement the code for printing the updated inventory.\n",
    "def print_updated_inventory(inventory):\n",
    "     for product, amount in inventory.items():\n",
    "          print(f\"{product}: {amount}\")\n",
    "     return\n"
   ]
  },
  {
   "cell_type": "code",
   "execution_count": 104,
   "id": "b95edf99",
   "metadata": {},
   "outputs": [],
   "source": [
    "#7. Call the functions in the appropriate sequence to execute the program and manage customer orders.\n",
    "products = [\"t-shirt\", \"mug\", \"hat\", \"book\", \"keychain\"]"
   ]
  },
  {
   "cell_type": "code",
   "execution_count": 109,
   "id": "d3d66517",
   "metadata": {},
   "outputs": [],
   "source": [
    "inventory = initialize_inventory(products)"
   ]
  },
  {
   "cell_type": "code",
   "execution_count": 111,
   "id": "e04ad3cd",
   "metadata": {},
   "outputs": [
    {
     "name": "stdout",
     "output_type": "stream",
     "text": [
      "Product not available, try another\n",
      "Product already order, try another\n",
      "{'book', 'mug', 'hat'}\n"
     ]
    }
   ],
   "source": [
    "customer_orders = get_customer_orders()\n",
    "print(customer_orders)"
   ]
  },
  {
   "cell_type": "code",
   "execution_count": 120,
   "id": "4d691fd2",
   "metadata": {},
   "outputs": [],
   "source": [
    "inventory = update_inventory(customer_orders, inventory)"
   ]
  },
  {
   "cell_type": "code",
   "execution_count": 121,
   "id": "a680e36c",
   "metadata": {},
   "outputs": [],
   "source": [
    "order_statistics = calculate_order_statistics(customer_orders, inventory)"
   ]
  },
  {
   "cell_type": "code",
   "execution_count": 122,
   "id": "e1ac4fac",
   "metadata": {},
   "outputs": [
    {
     "name": "stdout",
     "output_type": "stream",
     "text": [
      "Order Statistics:\n",
      "Total products: 94\n",
      "Total products ordered: 3\n",
      "Percentage of Products Ordered:: 3.19%\n"
     ]
    }
   ],
   "source": [
    "print_order_statistics(order_statistics)"
   ]
  },
  {
   "cell_type": "code",
   "execution_count": 123,
   "id": "f742b5a9",
   "metadata": {},
   "outputs": [
    {
     "name": "stdout",
     "output_type": "stream",
     "text": [
      "t-shirt: 20\n",
      "mug: 18\n",
      "hat: 18\n",
      "book: 18\n",
      "keychain: 20\n"
     ]
    }
   ],
   "source": [
    "print_updated_inventory(inventory)"
   ]
  },
  {
   "cell_type": "code",
   "execution_count": null,
   "id": "7b96c63c",
   "metadata": {},
   "outputs": [],
   "source": []
  }
 ],
 "metadata": {
  "interpreter": {
   "hash": "584093557690fa7b817b68151f31b4e6f6269ea11aeed8f643261726e3a08327"
  },
  "kernelspec": {
   "display_name": "Python 3.11.7 ('base')",
   "language": "python",
   "name": "python3"
  },
  "language_info": {
   "codemirror_mode": {
    "name": "ipython",
    "version": 3
   },
   "file_extension": ".py",
   "mimetype": "text/x-python",
   "name": "python",
   "nbconvert_exporter": "python",
   "pygments_lexer": "ipython3",
   "version": "3.11.7"
  }
 },
 "nbformat": 4,
 "nbformat_minor": 5
}
